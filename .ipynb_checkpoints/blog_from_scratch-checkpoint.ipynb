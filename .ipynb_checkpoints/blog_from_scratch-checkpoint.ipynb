{
 "cells": [
  {
   "cell_type": "code",
   "execution_count": 1,
   "metadata": {},
   "outputs": [],
   "source": [
    "from IPython.display import clear_output"
   ]
  },
  {
   "cell_type": "code",
   "execution_count": 4,
   "metadata": {},
   "outputs": [],
   "source": [
    "# Create a live blog with user in it, posts in it, the current user using it..\n",
    "\n",
    "class Blog: \n",
    "    def __init__(self):\n",
    "        self.users = []\n",
    "        self.posts = []\n",
    "        self.current_user = None\n",
    "\n",
    "\n",
    "\n",
    "\n",
    "\n",
    "class User:\n",
    "    pass\n",
    "\n",
    "\n",
    "\n",
    "\n",
    "\n",
    "class Post:\n",
    "    pass\n",
    "\n"
   ]
  },
  {
   "cell_type": "code",
   "execution_count": 5,
   "metadata": {},
   "outputs": [
    {
     "ename": "SyntaxError",
     "evalue": "invalid syntax (<ipython-input-5-e1a55d1b8749>, line 10)",
     "output_type": "error",
     "traceback": [
      "\u001b[1;36m  File \u001b[1;32m\"<ipython-input-5-e1a55d1b8749>\"\u001b[1;36m, line \u001b[1;32m10\u001b[0m\n\u001b[1;33m    if my_blog.current\u001b[0m\n\u001b[1;37m                      ^\u001b[0m\n\u001b[1;31mSyntaxError\u001b[0m\u001b[1;31m:\u001b[0m invalid syntax\n"
     ]
    }
   ],
   "source": [
    "# Define fn to run blog\n",
    "\n",
    "def run_blog():\n",
    "#     Create an instance of the blog\n",
    "    my_blog = Blog()\n",
    "#     Keep looping while blog is 'running'\n",
    "    while True:\n",
    "#         be able to create new users\n",
    "#         if there is no current user logged in\n",
    "        if my_blog.current_user is None:\n",
    "            print(\"1. Sign Up/n5. Quit\")\n",
    "            to_do = input(\"Which option would you like to choose: \")\n",
    "            while to_do not in {'1', '5'}:\n",
    "                to_do = input(\"Not valid. Please choose 1 or 5\")\n",
    "            if to_do == '5':\n",
    "                print(\"Thanks for checking out our blog\")\n",
    "                break\n",
    "            elif to_do == 1:\n",
    "#                 method to create new user\n",
    "                pass"
   ]
  },
  {
   "cell_type": "code",
   "execution_count": null,
   "metadata": {},
   "outputs": [],
   "source": []
  }
 ],
 "metadata": {
  "kernelspec": {
   "display_name": "Python 3",
   "language": "python",
   "name": "python3"
  },
  "language_info": {
   "codemirror_mode": {
    "name": "ipython",
    "version": 3
   },
   "file_extension": ".py",
   "mimetype": "text/x-python",
   "name": "python",
   "nbconvert_exporter": "python",
   "pygments_lexer": "ipython3",
   "version": "3.8.3"
  }
 },
 "nbformat": 4,
 "nbformat_minor": 4
}
