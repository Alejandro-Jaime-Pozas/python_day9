{
 "cells": [
  {
   "cell_type": "code",
   "execution_count": 40,
   "metadata": {},
   "outputs": [],
   "source": [
    "from IPython.display import clear_output"
   ]
  },
  {
   "cell_type": "code",
   "execution_count": 41,
   "metadata": {},
   "outputs": [],
   "source": [
    "# Create a live blog with user in it, posts in it, the current user using it..\n",
    "\n",
    "class Blog:\n",
    "    \n",
    "    def __init__(self):\n",
    "        self.users = set()\n",
    "        self.posts = []\n",
    "        self.current_user = None\n",
    "        \n",
    "    # method to add new users to the blog\n",
    "    def create_new_user(self):\n",
    "        # get user info from input\n",
    "        username = input(\"Please enter a username: \")\n",
    "        # check is there is already a user w SAME USERNAME. ###############DID NOT UNDERSTAND FOR LOOP\n",
    "        if username in {u.username for u in self.users}: # this is a set to check non-repeating values\n",
    "            print(f\"User with username {username} already exists\")\n",
    "        else:\n",
    "            password = input(\"Please enter a password: \")\n",
    "            # create a new user instance w info from input\n",
    "            new_user = User(username, password)\n",
    "            # add user instance to the list of blog users\n",
    "            self.users.add(new_user)\n",
    "            print(f\"{new_user} has been created!\")\n",
    "            \n",
    "    def log_user_in(self):\n",
    "        # get user credentials\n",
    "        username = input(\"What is your username: \")\n",
    "        password = input(\"What is your password: \")\n",
    "        for user in self.users:\n",
    "            # check if that user has the same username and password as the inputs\n",
    "            # PASSWORD SHOULD BE STORED DIFFERENTLY IN A DATABASE, CREATE HASHING TO SAFE-GUARD IT\n",
    "            if user.username == username and user.check_password(password):\n",
    "                # if user has correct credentials, set the blog's current user to that user instance\n",
    "                self.current_user = user\n",
    "                print(f\"{user} has been logged in\")\n",
    "                break\n",
    "        # if no users in our blog user list have correct username/password, let them know\n",
    "        else:\n",
    "            print(\"Username and/or password is incorrect\")\n",
    "            \n",
    "    def log_user_out(self):\n",
    "        # change the current_user attr from the user to None\n",
    "        self.current_user = None\n",
    "        print('You have successfully logged out')\n",
    "       \n",
    "    # method to create and add post to blog\n",
    "    def create_post(self):\n",
    "        # check to make sure the user trying to create a post is logged in\n",
    "        if self.current_user is not None:\n",
    "            # get title and body from the user input\n",
    "            title = input(\"Enter the title of your post: \").title()\n",
    "            body = input(\"Enter the body of your post: \")\n",
    "            # create a new post instance w user input\n",
    "            new_post = Post(title, body, self.current_user)\n",
    "            # add the post object to the blog's list of posts\n",
    "            self.posts.append(new_post)\n",
    "            print(f\"{new_post.title} has been created\")\n",
    "        else:\n",
    "            print('You must be logged in to perform this action')\n",
    "        \n",
    "    # method to view all posts\n",
    "    def view_posts(self):\n",
    "        if self.posts:\n",
    "            for post in self.posts:\n",
    "                print(post)\n",
    "        else:\n",
    "            print('There are currently no posts for this blog :(')\n",
    "\n",
    "\n",
    "\n",
    "class User:\n",
    "    # class attribute to KEEP TRACK of User IDs\n",
    "    id_counter = 1 \n",
    "    \n",
    "    def __init__(self, username, password):\n",
    "        self.username = username\n",
    "        self.password = password\n",
    "        self.id = User.id_counter\n",
    "        User.id_counter += 1\n",
    "\n",
    "    def __str__(self):\n",
    "        return self.username\n",
    "    \n",
    "    def __repr__(self):\n",
    "        return f\"<User {self.id}|{self.username}>\"\n",
    "    \n",
    "    def check_password(self, password_guess):\n",
    "        return self.password == password_guess\n",
    "\n",
    "\n",
    "\n",
    "class Post:\n",
    "    \n",
    "    id_counter = 1\n",
    "    \n",
    "    def __init__(self, title, body, author):\n",
    "        \"\"\"\n",
    "        title: str\n",
    "        body: str\n",
    "        author: user\n",
    "        \"\"\"\n",
    "        self.title = title\n",
    "        self.body = body\n",
    "        self.author = author\n",
    "        self.id = Post.id_counter\n",
    "        Post.id_counter += 1\n",
    "        \n",
    "    def __str__(self):\n",
    "        formatted_post = f\"\"\"\n",
    "        {self.id} - {self.title.title()}\n",
    "        By: {self.author}\n",
    "        {self.body}\n",
    "        \"\"\"\n",
    "        return formatted_post\n",
    "    \n",
    "    def __repr__(self):\n",
    "        return f\"<Post {self.id}|{self.title}>\"\n",
    "        \n",
    "\n"
   ]
  },
  {
   "cell_type": "code",
   "execution_count": 42,
   "metadata": {},
   "outputs": [
    {
     "name": "stdout",
     "output_type": "stream",
     "text": [
      "Thanks for checking out our blog!\n"
     ]
    }
   ],
   "source": [
    "# Define fn to run blog\n",
    "\n",
    "def run_blog():\n",
    "#     Create an instance of the blog\n",
    "    my_blog = Blog()\n",
    "#     Keep looping while blog is 'running'\n",
    "    while True:\n",
    "#         be able to create new users\n",
    "#         if there is no current user logged in\n",
    "        if my_blog.current_user is None:\n",
    "            print(\"1. Sign Up\\n2. Log In\\n3. View All Posts\\n5. Quit\")\n",
    "            to_do = input(\"Which option would you like to choose: \")\n",
    "            while to_do not in {'1', '5', '2', '3'}:\n",
    "                to_do = input(\"Not valid. Please choose 1 or 5: \")\n",
    "            clear_output()\n",
    "            if to_do == '5':\n",
    "                print(\"Thanks for checking out our blog!\")\n",
    "                break\n",
    "            elif to_do == '1':\n",
    "                # method to create new user\n",
    "                my_blog.create_new_user()\n",
    "            elif to_do == '2':\n",
    "                # method to log user in\n",
    "                my_blog.log_user_in()\n",
    "            elif to_do == '3':\n",
    "                # method to view all posts\n",
    "                my_blog.view_posts()\n",
    "        # if there is a current user (aka a logged in user)\n",
    "        else:\n",
    "            print('1. Log Out\\n2. Create a New Post\\n3. View All Posts')\n",
    "            to_do = input(\"Which option would you like to choose: \")\n",
    "            while to_do not in {'1', '2', '3'}:\n",
    "                to_do = input('Not valid. Please choose 1, 2, 3: ')\n",
    "            clear_output()\n",
    "            if to_do == '1':\n",
    "                my_blog.log_user_out()\n",
    "            elif to_do == '2':\n",
    "                my_blog.create_post()\n",
    "            elif to_do == '3':\n",
    "                my_blog.view_posts()\n",
    "            \n",
    "\n",
    "\n",
    "\n",
    "\n",
    "\n",
    "# Execute the fn\n",
    "run_blog()"
   ]
  },
  {
   "cell_type": "code",
   "execution_count": 30,
   "metadata": {},
   "outputs": [
    {
     "name": "stdout",
     "output_type": "stream",
     "text": [
      "\n",
      "        1 - First Post\n",
      "        By: a\n",
      "        this is my very first post.\n",
      "        \n"
     ]
    }
   ],
   "source": [
    "u1 = User('a', 'a')\n",
    "p1 = Post('first post', 'this is my very first post.', u1)\n",
    "print(p1)"
   ]
  },
  {
   "cell_type": "code",
   "execution_count": 31,
   "metadata": {},
   "outputs": [
    {
     "data": {
      "text/plain": [
       "<Post 1|first post>"
      ]
     },
     "execution_count": 31,
     "metadata": {},
     "output_type": "execute_result"
    }
   ],
   "source": [
    "p1"
   ]
  },
  {
   "cell_type": "code",
   "execution_count": null,
   "metadata": {},
   "outputs": [],
   "source": []
  }
 ],
 "metadata": {
  "kernelspec": {
   "display_name": "Python 3",
   "language": "python",
   "name": "python3"
  },
  "language_info": {
   "codemirror_mode": {
    "name": "ipython",
    "version": 3
   },
   "file_extension": ".py",
   "mimetype": "text/x-python",
   "name": "python",
   "nbconvert_exporter": "python",
   "pygments_lexer": "ipython3",
   "version": "3.8.3"
  }
 },
 "nbformat": 4,
 "nbformat_minor": 4
}
